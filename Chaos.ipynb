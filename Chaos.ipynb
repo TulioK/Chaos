{
 "cells": [
  {
   "cell_type": "markdown",
   "id": "cc3704be-afcb-451a-a540-a0c64e61f4ab",
   "metadata": {},
   "source": [
    "# CHAOS"
   ]
  },
  {
   "cell_type": "markdown",
   "id": "aaad7aa5-28f8-41e8-9e23-81d2587da717",
   "metadata": {},
   "source": [
    "## Chaos in Banking Bubbles\n",
    "We briefly study the relationship of classical chaos in banking bubbles, based on the work of Giovanni Bella and Paolo Mattana (2020), as well as Miao and Wang (2015)."
   ]
  },
  {
   "cell_type": "markdown",
   "id": "ec57771b-0557-4f13-8448-9c56dcafd81d",
   "metadata": {},
   "source": [
    "## The Model\n",
    "We consider the baseline model described in Miao and Wang\n",
    "(2015), where financial bubbles are faced by a (continuous time)\n",
    "deterministic economy composed of households, non-financial\n",
    "firms and banks. The model assumes that households consume,\n",
    "save and supply labor (normalized to unity). Households own\n",
    "non-financial firms and banks. Workers and bankers are two type\n",
    "of agents belonging to each household. Hence, households deposit\n",
    "their savings in banks that lend thereafter funds to non-financial\n",
    "firms. Financial bubbles arise in the stock market value of the\n",
    "banks."
   ]
  },
  {
   "cell_type": "markdown",
   "id": "df72ebae-3a2b-4a9a-9836-331676bb26bd",
   "metadata": {},
   "source": [
    "The standard optimization problem faced by the representa-\n",
    "tive household leads to the following three-dimensional system\n",
    "of differential equations:\n",
    "\n",
    "\\begin{equation}\n",
    "\\dot{Q} = rQ -Q[r_k+(r_k-r)\\xi Q] - \\theta(1-Q)\n",
    "\\end{equation}\n",
    "\n",
    "\\begin{equation}\n",
    "\\dot{B} = rB -Q(r_k-r)B\n",
    "\\end{equation}\n",
    "\n",
    "\\begin{equation}\n",
    "\\dot{N} = [r_k-\\theta+(r_k-r)\\xi Q]N +(r_k-r)B\n",
    "\\end{equation}\n",
    "\n",
    "\n",
    "where $Q$ is the shadow price of bank's net worth $N$, and $B$ is the\n",
    "bubble component of the stock market value of a bank, given by\n",
    "$QN + B$. Moreover, $r$ represents the deposit rate, whereas $r_k$ is\n",
    "the lending rate. Additionally, ($\\xi,\\theta$) $\\in$ $(0, 1)^2$ are the degree of\n",
    "financial frictions and the share of banks’ dividends, respectively."
   ]
  },
  {
   "cell_type": "markdown",
   "id": "a09ce21b-6475-452b-9195-34da07f60b4b",
   "metadata": {},
   "source": [
    "We resort to a simple runge-kutta method to solve the system of differential equations:"
   ]
  },
  {
   "cell_type": "code",
   "execution_count": 9,
   "id": "ddc7545c-c93b-4166-be5d-4458f44c205a",
   "metadata": {},
   "outputs": [],
   "source": [
    "# constants\n",
    "xi = 0.5 # (0,1)\n",
    "theta = 0.5 # (0,1)\n",
    "\n",
    "# parameters\n",
    "r_k = 0.5 # \n",
    "r = 0.5\n",
    "\n",
    "# step size:\n",
    "h = 0.001\n",
    "\n",
    "# initial conditions:\n",
    "Q = 1\n",
    "B = 1\n",
    "N = 1\n",
    "t = 0\n",
    "\n",
    "# functions\n",
    "def kQ(Q,B,N,t):\n",
    "    return r*Q-Q*(r_k+(r_k-r)*xi*Q)-theta*(1-Q)\n",
    "\n",
    "def kB(Q,B,N,t):\n",
    "    return r*B-Q*(r_k-r)*B\n",
    "\n",
    "def kN(Q,B,N,t):\n",
    "    return (r_k-theta+(r_k-r)*xi*Q)*N + (r_k-r)*B\n",
    "\n",
    "Q_list = list()\n",
    "Q_list.append(Q)\n",
    "B_list = list()\n",
    "B_list.append(B)\n",
    "N_list = list()\n",
    "N_list.append(N)\n",
    "t_list = list()\n",
    "t_list.append(t)\n",
    "\n",
    "\n",
    "for i in range(1000):    \n",
    "    kQ1 = kQ(Q,B,N,t)\n",
    "    kQ2 = kQ(Q+h*kQ1/2,B,N,t+h/2)\n",
    "    kQ3 = kQ(Q+h*kQ2/2,B,N,t+h/2)\n",
    "    kQ4 = kQ(Q+h*kQ3,B,N,t+h)\n",
    "    \n",
    "    kB1 = kB(Q,B,N,t)\n",
    "    kB2 = kB(Q,B+h*kB1/2,N,t+h/2)\n",
    "    kB3 = kB(Q,B+h*kB2/2,N,t+h/2)\n",
    "    kB4 = kB(Q,B+h*kB3,N,t+h)\n",
    "    \n",
    "    kN1 = kN(Q,B,N,t)\n",
    "    kN2 = kN(Q,B,N+h*kN1/2,t+h/2)\n",
    "    kN3 = kN(Q,B,N+h*kN2/2,t+h/2)\n",
    "    kN4 = kN(Q,B,N+h*kN3,t+h)\n",
    "    \n",
    "    Qn = Q + h*(kQ1 + 2*kQ2 + 2*kQ3 + kQ4)/6\n",
    "    Bn = B + h*(kB1 + 2*kB2 + 2*kB3 + kB4)/6\n",
    "    Nn = N + h*(kN1 + 2*kN2 + 2*kN3 + kN4)/6\n",
    "    \n",
    "    t = t + h\n",
    "    Q = Qn\n",
    "    B = Bn\n",
    "    N = Nn\n",
    "    t_list.append(t)\n",
    "    Q_list.append(Q)\n",
    "    B_list.append(B)\n",
    "    N_list.append(N)"
   ]
  },
  {
   "cell_type": "code",
   "execution_count": 17,
   "id": "fb349879-cc19-4223-9819-307047a6c927",
   "metadata": {},
   "outputs": [
    {
     "data": {
      "text/plain": [
       "[<matplotlib.lines.Line2D at 0x7f0e15aca050>]"
      ]
     },
     "execution_count": 17,
     "metadata": {},
     "output_type": "execute_result"
    },
    {
     "data": {
      "image/png": "[encoded data removed]",
      "text/plain": [
       "<Figure size 640x480 with 1 Axes>"
      ]
     },
     "metadata": {},
     "output_type": "display_data"
    }
   ],
   "source": [
    "import matplotlib.pyplot as plt \n",
    "\n",
    "plt.plot(t_list, Q_list)\n",
    "#print(Q_list)\n",
    "#print(t_list)\n",
    "plt.plot(t_list, B_list)\n",
    "plt.plot(t_list, N_list)"
   ]
  }
 ],
 "metadata": {
  "kernelspec": {
   "display_name": "Python 3 (ipykernel)",
   "language": "python",
   "name": "python3"
  },
  "language_info": {
   "codemirror_mode": {
    "name": "ipython",
    "version": 3
   },
   "file_extension": ".py",
   "mimetype": "text/x-python",
   "name": "python",
   "nbconvert_exporter": "python",
   "pygments_lexer": "ipython3",
   "version": "3.10.12"
  }
 },
 "nbformat": 4,
 "nbformat_minor": 5
}
